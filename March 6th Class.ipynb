{
 "cells": [
  {
   "cell_type": "code",
   "execution_count": 1,
   "id": "91876794",
   "metadata": {},
   "outputs": [],
   "source": [
    "import pandas as pd"
   ]
  },
  {
   "cell_type": "code",
   "execution_count": 3,
   "id": "f2e8c408",
   "metadata": {},
   "outputs": [],
   "source": [
    "iris_df = pd.read_csv(\"iris_dirty.csv\")"
   ]
  },
  {
   "cell_type": "code",
   "execution_count": 4,
   "id": "80551c9b",
   "metadata": {},
   "outputs": [
    {
     "data": {
      "text/html": [
       "<div>\n",
       "<style scoped>\n",
       "    .dataframe tbody tr th:only-of-type {\n",
       "        vertical-align: middle;\n",
       "    }\n",
       "\n",
       "    .dataframe tbody tr th {\n",
       "        vertical-align: top;\n",
       "    }\n",
       "\n",
       "    .dataframe thead th {\n",
       "        text-align: right;\n",
       "    }\n",
       "</style>\n",
       "<table border=\"1\" class=\"dataframe\">\n",
       "  <thead>\n",
       "    <tr style=\"text-align: right;\">\n",
       "      <th></th>\n",
       "      <th>sepal.length</th>\n",
       "      <th>sepal.width</th>\n",
       "      <th>petal.length</th>\n",
       "      <th>petal.width</th>\n",
       "      <th>variety</th>\n",
       "    </tr>\n",
       "  </thead>\n",
       "  <tbody>\n",
       "    <tr>\n",
       "      <th>0</th>\n",
       "      <td>5.1</td>\n",
       "      <td>3.5</td>\n",
       "      <td>1.4</td>\n",
       "      <td>NaN</td>\n",
       "      <td>Setosa</td>\n",
       "    </tr>\n",
       "    <tr>\n",
       "      <th>1</th>\n",
       "      <td>4.9</td>\n",
       "      <td>3.0</td>\n",
       "      <td>1.4</td>\n",
       "      <td>NaN</td>\n",
       "      <td>Setosa</td>\n",
       "    </tr>\n",
       "    <tr>\n",
       "      <th>2</th>\n",
       "      <td>4.7</td>\n",
       "      <td>3.2</td>\n",
       "      <td>1.3</td>\n",
       "      <td>NaN</td>\n",
       "      <td>Setosa</td>\n",
       "    </tr>\n",
       "    <tr>\n",
       "      <th>3</th>\n",
       "      <td>4.6</td>\n",
       "      <td>3.1</td>\n",
       "      <td>1.5</td>\n",
       "      <td>NaN</td>\n",
       "      <td>Setosa</td>\n",
       "    </tr>\n",
       "    <tr>\n",
       "      <th>4</th>\n",
       "      <td>5.0</td>\n",
       "      <td>3.6</td>\n",
       "      <td>1.4</td>\n",
       "      <td>NaN</td>\n",
       "      <td>Setosa</td>\n",
       "    </tr>\n",
       "  </tbody>\n",
       "</table>\n",
       "</div>"
      ],
      "text/plain": [
       "   sepal.length  sepal.width  petal.length  petal.width variety\n",
       "0           5.1          3.5           1.4          NaN  Setosa\n",
       "1           4.9          3.0           1.4          NaN  Setosa\n",
       "2           4.7          3.2           1.3          NaN  Setosa\n",
       "3           4.6          3.1           1.5          NaN  Setosa\n",
       "4           5.0          3.6           1.4          NaN  Setosa"
      ]
     },
     "execution_count": 4,
     "metadata": {},
     "output_type": "execute_result"
    }
   ],
   "source": [
    "iris_df.head()"
   ]
  },
  {
   "cell_type": "code",
   "execution_count": 5,
   "id": "9b60970a",
   "metadata": {},
   "outputs": [
    {
     "name": "stdout",
     "output_type": "stream",
     "text": [
      "     sepal.length  sepal.width  petal.length    variety\n",
      "0             5.1          3.5           1.4     Setosa\n",
      "1             4.9          3.0           1.4     Setosa\n",
      "2             4.7          3.2           1.3     Setosa\n",
      "3             4.6          3.1           1.5     Setosa\n",
      "4             5.0          3.6           1.4     Setosa\n",
      "..            ...          ...           ...        ...\n",
      "148           6.2          3.4           5.4  Virginica\n",
      "149           5.9          3.0           5.1  Virginica\n",
      "150           5.9          3.0           5.1  Virginica\n",
      "151           5.9          3.0           5.1  Virginica\n",
      "152           5.9          3.0           5.1  Virginica\n",
      "\n",
      "[153 rows x 4 columns]\n"
     ]
    }
   ],
   "source": [
    "iris = iris_df.drop('petal.width', axis = 1)\n",
    "print(iris)"
   ]
  },
  {
   "cell_type": "code",
   "execution_count": 6,
   "id": "b5a8b076",
   "metadata": {},
   "outputs": [
    {
     "name": "stdout",
     "output_type": "stream",
     "text": [
      "<class 'pandas.core.frame.DataFrame'>\n",
      "RangeIndex: 153 entries, 0 to 152\n",
      "Data columns (total 5 columns):\n",
      " #   Column        Non-Null Count  Dtype  \n",
      "---  ------        --------------  -----  \n",
      " 0   sepal.length  153 non-null    float64\n",
      " 1   sepal.width   153 non-null    float64\n",
      " 2   petal.length  153 non-null    float64\n",
      " 3   petal.width   148 non-null    float64\n",
      " 4   variety       153 non-null    object \n",
      "dtypes: float64(4), object(1)\n",
      "memory usage: 6.1+ KB\n"
     ]
    }
   ],
   "source": [
    "iris_df.info()"
   ]
  },
  {
   "cell_type": "code",
   "execution_count": 7,
   "id": "76764e02",
   "metadata": {},
   "outputs": [],
   "source": [
    "# replace any blank values with the average petal with for setosa varieties\n",
    "# using loc function (a part of pandas) able to idenitfy specific values in data set\n",
    "# finds the mean of the values that have a variety of setosa\n",
    "a = iris_df.loc[iris_df[\"variety\"] == \"Setosa\", 'petal.width'].mean()\n",
    "iris_nn = iris_df\n",
    "# fillna function allows you to fill null values with the value you specified\n",
    "# inplace = True saves it back to memory\n",
    "iris_nn[\"petal.width\"].fillna(a, inplace = True)"
   ]
  },
  {
   "cell_type": "code",
   "execution_count": 8,
   "id": "85bf564d",
   "metadata": {},
   "outputs": [
    {
     "name": "stdout",
     "output_type": "stream",
     "text": [
      "     sepal.length  sepal.width  petal.length  petal.width    variety\n",
      "0             5.1          3.5           1.4     0.251111     Setosa\n",
      "1             4.9          3.0           1.4     0.251111     Setosa\n",
      "2             4.7          3.2           1.3     0.251111     Setosa\n",
      "3             4.6          3.1           1.5     0.251111     Setosa\n",
      "4             5.0          3.6           1.4     0.251111     Setosa\n",
      "..            ...          ...           ...          ...        ...\n",
      "148           6.2          3.4           5.4     2.300000  Virginica\n",
      "149           5.9          3.0           5.1     1.800000  Virginica\n",
      "150           5.9          3.0           5.1     1.800000  Virginica\n",
      "151           5.9          3.0           5.1     1.800000  Virginica\n",
      "152           5.9          3.0           5.1     1.800000  Virginica\n",
      "\n",
      "[153 rows x 5 columns]\n",
      "<class 'pandas.core.frame.DataFrame'>\n",
      "RangeIndex: 153 entries, 0 to 152\n",
      "Data columns (total 5 columns):\n",
      " #   Column        Non-Null Count  Dtype  \n",
      "---  ------        --------------  -----  \n",
      " 0   sepal.length  153 non-null    float64\n",
      " 1   sepal.width   153 non-null    float64\n",
      " 2   petal.length  153 non-null    float64\n",
      " 3   petal.width   153 non-null    float64\n",
      " 4   variety       153 non-null    object \n",
      "dtypes: float64(4), object(1)\n",
      "memory usage: 6.1+ KB\n",
      "None\n"
     ]
    }
   ],
   "source": [
    "print(iris_nn)\n",
    "print(iris_nn.info())"
   ]
  },
  {
   "cell_type": "code",
   "execution_count": 9,
   "id": "6320ee46",
   "metadata": {},
   "outputs": [
    {
     "data": {
      "text/plain": [
       "0      False\n",
       "1      False\n",
       "2      False\n",
       "3      False\n",
       "4      False\n",
       "       ...  \n",
       "148    False\n",
       "149    False\n",
       "150     True\n",
       "151     True\n",
       "152     True\n",
       "Length: 153, dtype: bool"
      ]
     },
     "execution_count": 9,
     "metadata": {},
     "output_type": "execute_result"
    }
   ],
   "source": [
    "iris_nn.duplicated()"
   ]
  },
  {
   "cell_type": "code",
   "execution_count": 10,
   "id": "207ba658",
   "metadata": {},
   "outputs": [],
   "source": [
    "# duplicated numbers are no longer apart of the dataset\n",
    "iris_nn.drop_duplicates(inplace = True)"
   ]
  },
  {
   "cell_type": "code",
   "execution_count": 11,
   "id": "ac52ddb5",
   "metadata": {},
   "outputs": [
    {
     "name": "stdout",
     "output_type": "stream",
     "text": [
      "     sepal.length  sepal.width  petal.length  petal.width    variety\n",
      "0             5.1          3.5           1.4     0.251111     Setosa\n",
      "1             4.9          3.0           1.4     0.251111     Setosa\n",
      "2             4.7          3.2           1.3     0.251111     Setosa\n",
      "3             4.6          3.1           1.5     0.251111     Setosa\n",
      "4             5.0          3.6           1.4     0.251111     Setosa\n",
      "..            ...          ...           ...          ...        ...\n",
      "145           6.7          3.0           5.2     2.300000  Virginica\n",
      "146           6.3          2.5           5.0     1.900000  Virginica\n",
      "147           6.5          3.0           5.2     2.000000  Virginica\n",
      "148           6.2          3.4           5.4     2.300000  Virginica\n",
      "149           5.9          3.0           5.1     1.800000  Virginica\n",
      "\n",
      "[149 rows x 5 columns]\n"
     ]
    }
   ],
   "source": [
    "print(iris_nn)"
   ]
  },
  {
   "cell_type": "code",
   "execution_count": 12,
   "id": "a69e114f",
   "metadata": {},
   "outputs": [
    {
     "name": "stdout",
     "output_type": "stream",
     "text": [
      "     sepal.length  sepal.width  petal.length  petal.width    variety IsSetosa\n",
      "0             5.1          3.5           1.4     0.251111     Setosa   Setosa\n",
      "1             4.9          3.0           1.4     0.251111     Setosa   Setosa\n",
      "2             4.7          3.2           1.3     0.251111     Setosa   Setosa\n",
      "3             4.6          3.1           1.5     0.251111     Setosa   Setosa\n",
      "4             5.0          3.6           1.4     0.251111     Setosa   Setosa\n",
      "..            ...          ...           ...          ...        ...      ...\n",
      "145           6.7          3.0           5.2     2.300000  Virginica      NaN\n",
      "146           6.3          2.5           5.0     1.900000  Virginica      NaN\n",
      "147           6.5          3.0           5.2     2.000000  Virginica      NaN\n",
      "148           6.2          3.4           5.4     2.300000  Virginica      NaN\n",
      "149           5.9          3.0           5.1     1.800000  Virginica      NaN\n",
      "\n",
      "[149 rows x 6 columns]\n"
     ]
    }
   ],
   "source": [
    "iris_nc = iris_nn\n",
    "#creating a dictionary that maps each column to a variety\n",
    "setosa_map = {\"Setosa\":\"Setosa\", \"Virinica\":\"Not Setosa\", \"Versicolor\":\"Not Setosa\"}\n",
    "# will link the variety to the setosa map created\n",
    "iris_nc[\"IsSetosa\"] = iris_nc['variety'].map(setosa_map)\n",
    "print(iris_nc)"
   ]
  },
  {
   "cell_type": "code",
   "execution_count": 13,
   "id": "11ed3fb4",
   "metadata": {},
   "outputs": [
    {
     "name": "stdout",
     "output_type": "stream",
     "text": [
      "variety      Setosa  Versicolor  Virginica\n",
      "sepal.width     4.4         3.4        3.8\n"
     ]
    }
   ],
   "source": [
    "irispivot = pd.pivot_table(iris_nc, columns=\"variety\", values=\"sepal.width\", aggfunc=\"max\")\n",
    "print(irispivot)"
   ]
  },
  {
   "cell_type": "code",
   "execution_count": null,
   "id": "19ad59cc",
   "metadata": {},
   "outputs": [],
   "source": []
  }
 ],
 "metadata": {
  "kernelspec": {
   "display_name": "Python 3 (ipykernel)",
   "language": "python",
   "name": "python3"
  },
  "language_info": {
   "codemirror_mode": {
    "name": "ipython",
    "version": 3
   },
   "file_extension": ".py",
   "mimetype": "text/x-python",
   "name": "python",
   "nbconvert_exporter": "python",
   "pygments_lexer": "ipython3",
   "version": "3.11.5"
  }
 },
 "nbformat": 4,
 "nbformat_minor": 5
}
