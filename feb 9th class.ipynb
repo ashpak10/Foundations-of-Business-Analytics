{
 "cells": [
  {
   "cell_type": "code",
   "execution_count": 3,
   "id": "a15687b1",
   "metadata": {},
   "outputs": [
    {
     "name": "stdout",
     "output_type": "stream",
     "text": [
      "Enter an adjective:happy\n",
      "Enter another adjective:intense\n",
      "Enter a type of bird:raven\n",
      "It was a happy cold November day. I woke up to the intense smell of raven roasting downstairs.\n"
     ]
    }
   ],
   "source": [
    "adjective = input(\"Enter an adjective:\")\n",
    "ajective2 = input(\"Enter another adjective:\")\n",
    "typeBird = input(\"Enter a type of bird:\")\n",
    "\n",
    "print(\"It was a\", adjective, \"cold November day. I woke up to the\", ajective2, \"smell of\", typeBird, \"roasting downstairs.\")"
   ]
  },
  {
   "cell_type": "code",
   "execution_count": 3,
   "id": "1abf1d5c",
   "metadata": {},
   "outputs": [
    {
     "name": "stdout",
     "output_type": "stream",
     "text": [
      "Enter an adjective:SCORCHING\n",
      "Enter a name:Bronson\n",
      "Enter a noun:penny\n",
      "Enter a place:Columbia\n",
      "Enter an animal:bird\n",
      "Enter an action verb:laughing\n",
      "Enter another place:apartment\n",
      "It was a SCORCHING  summer day, when Bronson was walking along the beach. Bronson found a  penny in the sand. Bronson picked it up and took it Columbia . The bird was chirping and there were people laughing Everything felt right again as I walked to the apartment\n"
     ]
    }
   ],
   "source": [
    "adjective = input(\"Enter an adjective:\")\n",
    "name = input(\"Enter a name:\")\n",
    "noun = input(\"Enter a noun:\")\n",
    "place = input(\"Enter a place:\")\n",
    "animal = input(\"Enter an animal:\")\n",
    "verb = input(\"Enter an action verb:\")\n",
    "place2 = input(\"Enter another place:\")\n",
    "\n",
    "\n",
    "print (\"It was a\", adjective, \" summer day, when\", name, \"was walking along the beach.\", name, \"found a \", noun, \"in the sand.\", name, \"picked it up and took it\", place,\". The\", animal, \"was chirping and there were people\", verb, \"Everything felt right again as I walked to the\", place2)\n",
    "\n",
    "\n",
    "\n"
   ]
  },
  {
   "cell_type": "code",
   "execution_count": null,
   "id": "6c7fef1e",
   "metadata": {},
   "outputs": [],
   "source": []
  },
  {
   "cell_type": "code",
   "execution_count": null,
   "id": "207f0d5a",
   "metadata": {},
   "outputs": [],
   "source": []
  }
 ],
 "metadata": {
  "kernelspec": {
   "display_name": "Python 3 (ipykernel)",
   "language": "python",
   "name": "python3"
  },
  "language_info": {
   "codemirror_mode": {
    "name": "ipython",
    "version": 3
   },
   "file_extension": ".py",
   "mimetype": "text/x-python",
   "name": "python",
   "nbconvert_exporter": "python",
   "pygments_lexer": "ipython3",
   "version": "3.11.5"
  }
 },
 "nbformat": 4,
 "nbformat_minor": 5
}
