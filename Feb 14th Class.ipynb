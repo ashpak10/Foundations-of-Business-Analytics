{
 "cells": [
  {
   "cell_type": "code",
   "execution_count": 2,
   "id": "a23b5d04",
   "metadata": {},
   "outputs": [
    {
     "name": "stdout",
     "output_type": "stream",
     "text": [
      "10\n",
      "30\n",
      "54\n"
     ]
    }
   ],
   "source": [
    "def my_function(x):\n",
    "    if x > 3:\n",
    "        b = 6 * x\n",
    "        return b\n",
    "    else:\n",
    "        return 10\n",
    "print(my_function(3))\n",
    "print(my_function(5))\n",
    "print(my_function(9))"
   ]
  },
  {
   "cell_type": "code",
   "execution_count": 6,
   "id": "804a10df",
   "metadata": {},
   "outputs": [
    {
     "name": "stdout",
     "output_type": "stream",
     "text": [
      "The area of a square with a side of 4 is 16\n"
     ]
    }
   ],
   "source": [
    "def square_area(s):\n",
    "    sarea = s * s\n",
    "    print(\"The area of a square with a side of\", s, \"is\", sarea)\n",
    "\n",
    "square_area(4)"
   ]
  },
  {
   "cell_type": "code",
   "execution_count": 14,
   "id": "f14dcb65",
   "metadata": {},
   "outputs": [
    {
     "name": "stdout",
     "output_type": "stream",
     "text": [
      "The area of a square with a side of 7 is 49\n"
     ]
    }
   ],
   "source": [
    "b = 7\n",
    "square_area(b)"
   ]
  },
  {
   "cell_type": "code",
   "execution_count": 8,
   "id": "21c86637",
   "metadata": {},
   "outputs": [],
   "source": [
    "def square_area2(s):\n",
    "    sarea = s * s\n",
    "    return sarea\n",
    "# first function will print the value second function will return the value"
   ]
  },
  {
   "cell_type": "code",
   "execution_count": 10,
   "id": "727f3f1b",
   "metadata": {},
   "outputs": [
    {
     "name": "stdout",
     "output_type": "stream",
     "text": [
      "The area of the square is 25\n"
     ]
    }
   ],
   "source": [
    "print(\"The area of the square is\", square_area2(5))"
   ]
  },
  {
   "cell_type": "code",
   "execution_count": 13,
   "id": "d4294f70",
   "metadata": {},
   "outputs": [
    {
     "name": "stdout",
     "output_type": "stream",
     "text": [
      "The area of the square with a side of 8 is 64 .\n"
     ]
    }
   ],
   "source": [
    "s = 8\n",
    "print(\"The area of the square with a side of\", s, \"is\", square_area2(s),\".\")"
   ]
  },
  {
   "cell_type": "code",
   "execution_count": 16,
   "id": "18da4b33",
   "metadata": {},
   "outputs": [
    {
     "name": "stdout",
     "output_type": "stream",
     "text": [
      "The area of the square with a side of 10 is 100 .\n"
     ]
    }
   ],
   "source": [
    "s = 10\n",
    "x = square_area2(s)\n",
    "print(\"The area of the square with a side of\", s, \"is\", x,\".\")"
   ]
  },
  {
   "cell_type": "code",
   "execution_count": 17,
   "id": "34126c50",
   "metadata": {},
   "outputs": [
    {
     "data": {
      "text/plain": [
       "25"
      ]
     },
     "execution_count": 17,
     "metadata": {},
     "output_type": "execute_result"
    }
   ],
   "source": [
    "square_area2(5)"
   ]
  },
  {
   "cell_type": "code",
   "execution_count": 20,
   "id": "39280f71",
   "metadata": {},
   "outputs": [
    {
     "name": "stdout",
     "output_type": "stream",
     "text": [
      "6\n",
      "10\n",
      "2\n"
     ]
    }
   ],
   "source": [
    "def ret_multiples(x):\n",
    "    a = x + 1\n",
    "    b = x * 2\n",
    "    c = x - 3\n",
    "    return a, b, c\n",
    "\n",
    "x, y, z = ret_multiples(5)\n",
    "print(x)\n",
    "print(y)\n",
    "print(z)"
   ]
  },
  {
   "cell_type": "code",
   "execution_count": 24,
   "id": "9fc98da2",
   "metadata": {},
   "outputs": [
    {
     "name": "stdout",
     "output_type": "stream",
     "text": [
      "This is a \n"
     ]
    }
   ],
   "source": [
    "a = open(\"newfile2.txt\", \"w\")\n",
    "a.write(\"This is a new file.\")\n",
    "a.close()\n",
    "\n",
    "a = open(\"newfile2.txt\", \"r\")\n",
    "print(a.read(10))"
   ]
  },
  {
   "cell_type": "code",
   "execution_count": null,
   "id": "faf74a51",
   "metadata": {},
   "outputs": [],
   "source": []
  }
 ],
 "metadata": {
  "kernelspec": {
   "display_name": "Python 3 (ipykernel)",
   "language": "python",
   "name": "python3"
  },
  "language_info": {
   "codemirror_mode": {
    "name": "ipython",
    "version": 3
   },
   "file_extension": ".py",
   "mimetype": "text/x-python",
   "name": "python",
   "nbconvert_exporter": "python",
   "pygments_lexer": "ipython3",
   "version": "3.11.5"
  }
 },
 "nbformat": 4,
 "nbformat_minor": 5
}
