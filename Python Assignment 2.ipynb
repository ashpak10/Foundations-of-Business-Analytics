{
 "cells": [
  {
   "cell_type": "code",
   "execution_count": 1,
   "id": "e0541ef6",
   "metadata": {},
   "outputs": [
    {
     "name": "stdout",
     "output_type": "stream",
     "text": [
      "The area of a square with a side of 2 is 4\n"
     ]
    }
   ],
   "source": [
    "s = 2\n",
    "squarearea = s * s\n",
    "print(\"The area of a square with a side of\", s, \"is\", squarearea)"
   ]
  },
  {
   "cell_type": "code",
   "execution_count": 7,
   "id": "37e2911e",
   "metadata": {},
   "outputs": [
    {
     "name": "stdout",
     "output_type": "stream",
     "text": [
      "The area of a rectangle with a length of 2 and a width of 3 is 6\n"
     ]
    }
   ],
   "source": [
    "l = 2\n",
    "w = 3\n",
    "rectanglearea = l * w\n",
    "print(\"The area of a rectangle with a length of\", l, \"and a width of\", w, \"is\", rectanglearea)"
   ]
  },
  {
   "cell_type": "code",
   "execution_count": 6,
   "id": "88f55a91",
   "metadata": {},
   "outputs": [
    {
     "name": "stdout",
     "output_type": "stream",
     "text": [
      "The area of a triangle with a base of 4 and a height of 5 is 10.0\n"
     ]
    }
   ],
   "source": [
    "b = 4\n",
    "h = 5\n",
    "trianglearea = (1/2) * (b * h)\n",
    "print(\"The area of a triangle with a base of\", b, \"and a height of\", h, \"is\", trianglearea)"
   ]
  },
  {
   "cell_type": "code",
   "execution_count": 9,
   "id": "29fd5ca2",
   "metadata": {},
   "outputs": [
    {
     "name": "stdout",
     "output_type": "stream",
     "text": [
      "The area of the ellispe is 18.84\n"
     ]
    }
   ],
   "source": [
    "a = 2\n",
    "b = 3\n",
    "pi = 3.14\n",
    "ellipsearea = pi * a * b\n",
    "print(\"The area of the ellispe is\", ellipsearea)"
   ]
  },
  {
   "cell_type": "code",
   "execution_count": 10,
   "id": "0af334b2",
   "metadata": {},
   "outputs": [
    {
     "name": "stdout",
     "output_type": "stream",
     "text": [
      "The area of the trapeziod is 10.0\n"
     ]
    }
   ],
   "source": [
    "a = 2\n",
    "b = 3\n",
    "h = 4\n",
    "trapeziodarea = ((a + b)/2) * h\n",
    "print(\"The area of the trapeziod is\", trapeziodarea)"
   ]
  },
  {
   "cell_type": "code",
   "execution_count": 13,
   "id": "f4bdba21",
   "metadata": {},
   "outputs": [
    {
     "name": "stdout",
     "output_type": "stream",
     "text": [
      "['bagels, pasta, pizza, waffles, fruit']\n"
     ]
    }
   ],
   "source": [
    "favoritefoods = [\"bagels, pasta, pizza, waffles, fruit\"]\n",
    "print(favoritefoods)"
   ]
  },
  {
   "cell_type": "code",
   "execution_count": 24,
   "id": "a8b20700",
   "metadata": {},
   "outputs": [
    {
     "name": "stdout",
     "output_type": "stream",
     "text": [
      "result: 8589934592\n"
     ]
    }
   ],
   "source": [
    "day = 8\n",
    "month = 11\n",
    "result = day**month\n",
    "print(\"result:\", result)"
   ]
  },
  {
   "cell_type": "code",
   "execution_count": 26,
   "id": "c8684f56",
   "metadata": {},
   "outputs": [
    {
     "data": {
      "text/plain": [
       "int"
      ]
     },
     "execution_count": 26,
     "metadata": {},
     "output_type": "execute_result"
    }
   ],
   "source": [
    "variable = 10\n",
    "type(variable)"
   ]
  },
  {
   "cell_type": "code",
   "execution_count": 29,
   "id": "d275a2e8",
   "metadata": {},
   "outputs": [
    {
     "name": "stdout",
     "output_type": "stream",
     "text": [
      "List of integers [10, 15, 20, 25, 30, 35, 40, 45, 50, 55, 60, 65, 70, 75, 80, 85, 90, 95, 100]\n"
     ]
    }
   ],
   "source": [
    "numberslist = list(range(10,101,5))\n",
    "print(\"List of integers\", numberslist)"
   ]
  },
  {
   "cell_type": "code",
   "execution_count": null,
   "id": "6726ab7f",
   "metadata": {},
   "outputs": [],
   "source": []
  }
 ],
 "metadata": {
  "kernelspec": {
   "display_name": "Python 3 (ipykernel)",
   "language": "python",
   "name": "python3"
  },
  "language_info": {
   "codemirror_mode": {
    "name": "ipython",
    "version": 3
   },
   "file_extension": ".py",
   "mimetype": "text/x-python",
   "name": "python",
   "nbconvert_exporter": "python",
   "pygments_lexer": "ipython3",
   "version": "3.11.5"
  }
 },
 "nbformat": 4,
 "nbformat_minor": 5
}
