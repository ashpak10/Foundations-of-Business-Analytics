{
 "cells": [
  {
   "cell_type": "code",
   "execution_count": 2,
   "id": "348e9a87",
   "metadata": {},
   "outputs": [],
   "source": [
    "import numpy as np"
   ]
  },
  {
   "cell_type": "code",
   "execution_count": 3,
   "id": "0fcdfd7d",
   "metadata": {},
   "outputs": [
    {
     "name": "stdout",
     "output_type": "stream",
     "text": [
      "[[19 23 88]\n",
      " [21 56 34]\n",
      " [56 20 63]]\n"
     ]
    }
   ],
   "source": [
    "# Use randint to generate a 3 by 3 array of random integers between 10 and 100\n",
    "i = np.random.randint(10,100,(3,3))\n",
    "\n",
    "print(i)"
   ]
  },
  {
   "cell_type": "code",
   "execution_count": 4,
   "id": "db15f973",
   "metadata": {},
   "outputs": [
    {
     "name": "stdout",
     "output_type": "stream",
     "text": [
      "9\n"
     ]
    }
   ],
   "source": [
    "# Type the code to print the size of array i\n",
    "print(i.size)"
   ]
  },
  {
   "cell_type": "code",
   "execution_count": 5,
   "id": "ec9c26fe",
   "metadata": {},
   "outputs": [
    {
     "name": "stdout",
     "output_type": "stream",
     "text": [
      "(3, 3)\n"
     ]
    }
   ],
   "source": [
    "# Type the code to print the shape of array i\n",
    "\n",
    "print(i.shape)"
   ]
  },
  {
   "cell_type": "code",
   "execution_count": 7,
   "id": "f9406579",
   "metadata": {},
   "outputs": [
    {
     "name": "stdout",
     "output_type": "stream",
     "text": [
      "2\n"
     ]
    }
   ],
   "source": [
    "# Type the code to print the number of dimensions of the array\n",
    "\n",
    "print(i.ndim)"
   ]
  },
  {
   "cell_type": "code",
   "execution_count": 10,
   "id": "6ba57518",
   "metadata": {},
   "outputs": [
    {
     "name": "stdout",
     "output_type": "stream",
     "text": [
      "88\n"
     ]
    }
   ],
   "source": [
    "# Print the third element on the first row of the array\n",
    "\n",
    "print(i[0,2])"
   ]
  },
  {
   "cell_type": "code",
   "execution_count": 9,
   "id": "90ff02e6",
   "metadata": {},
   "outputs": [
    {
     "name": "stdout",
     "output_type": "stream",
     "text": [
      "20\n"
     ]
    }
   ],
   "source": [
    "# Print the second element on the third row of the array\n",
    "\n",
    "print(i[2,1])"
   ]
  },
  {
   "cell_type": "code",
   "execution_count": 12,
   "id": "99178912",
   "metadata": {},
   "outputs": [
    {
     "name": "stdout",
     "output_type": "stream",
     "text": [
      "[[19 23 88]\n",
      " [21 56 34]\n",
      " [56 20 63]]\n",
      "[[190 230 880]\n",
      " [210 560 340]\n",
      " [560 200 630]]\n"
     ]
    }
   ],
   "source": [
    "# Multiply the elements in array i by 10 and assign the results to a new variable\n",
    "\n",
    "b = i * 10\n",
    "# Print the new variable\n",
    "print(i)\n",
    "print(b)"
   ]
  },
  {
   "cell_type": "code",
   "execution_count": 14,
   "id": "3da82d6b",
   "metadata": {},
   "outputs": [
    {
     "name": "stdout",
     "output_type": "stream",
     "text": [
      "[[43.98021862 41.65497087 16.71783026 44.66871048  2.34275733]\n",
      " [11.78841536  9.77310893 43.67326955  0.41098258 12.45414817]\n",
      " [48.21083914 25.55320689 30.93972456 33.04733464 15.13835237]]\n"
     ]
    }
   ],
   "source": [
    "# Create a 3 by 5 array of random floats between 0 and 50\n",
    "f = np.random.random([3,5])*50\n",
    "print(f)"
   ]
  },
  {
   "cell_type": "code",
   "execution_count": 15,
   "id": "c211fd5f",
   "metadata": {},
   "outputs": [
    {
     "name": "stdout",
     "output_type": "stream",
     "text": [
      "['apple' 'banana' 'cherry' 'grapes']\n"
     ]
    }
   ],
   "source": [
    "# Create an array of four strings\n",
    "\n",
    "s = np.array([\"apple\", \"banana\", \"cherry\", \"grapes\"])\n",
    "print(s)"
   ]
  },
  {
   "cell_type": "code",
   "execution_count": null,
   "id": "fb5a46e9",
   "metadata": {},
   "outputs": [],
   "source": []
  }
 ],
 "metadata": {
  "kernelspec": {
   "display_name": "Python 3 (ipykernel)",
   "language": "python",
   "name": "python3"
  },
  "language_info": {
   "codemirror_mode": {
    "name": "ipython",
    "version": 3
   },
   "file_extension": ".py",
   "mimetype": "text/x-python",
   "name": "python",
   "nbconvert_exporter": "python",
   "pygments_lexer": "ipython3",
   "version": "3.11.5"
  }
 },
 "nbformat": 4,
 "nbformat_minor": 5
}
