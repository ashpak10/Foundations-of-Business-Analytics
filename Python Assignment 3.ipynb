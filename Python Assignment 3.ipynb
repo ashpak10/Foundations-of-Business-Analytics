{
 "cells": [
  {
   "cell_type": "code",
   "execution_count": 1,
   "id": "0be15a99",
   "metadata": {},
   "outputs": [
    {
     "name": "stdout",
     "output_type": "stream",
     "text": [
      "a is less than b\n"
     ]
    }
   ],
   "source": [
    "a = 50\n",
    "b = 75\n",
    "if a < b:\n",
    "    print(\"a is less than b\")\n",
    "elif a > b:\n",
    "    print(\"b is less than a\")\n",
    "else:\n",
    "    print(\"they are equal\")"
   ]
  },
  {
   "cell_type": "code",
   "execution_count": 1,
   "id": "d8c28969",
   "metadata": {
    "scrolled": true
   },
   "outputs": [
    {
     "name": "stdout",
     "output_type": "stream",
     "text": [
      "1\n",
      "2\n",
      "3\n",
      "4\n",
      "5\n",
      "6\n",
      "7\n",
      "8\n",
      "9\n",
      "10\n",
      "11\n",
      "12\n",
      "13\n",
      "Oh no, the troubled teen years\n",
      "14\n",
      "Oh no, the troubled teen years\n",
      "15\n",
      "Oh no, the troubled teen years\n",
      "16\n",
      "Oh no, the troubled teen years\n",
      "17\n",
      "Oh no, the troubled teen years\n",
      "18\n",
      "Oh no, the troubled teen years\n",
      "19\n",
      "Oh no, the troubled teen years\n",
      "20\n"
     ]
    }
   ],
   "source": [
    "x = 1\n",
    "while x < 21:\n",
    "    print(x)\n",
    "    if x > 12 and x < 20:\n",
    "        print (\"Oh no, the troubled teen years\")\n",
    "    x += 1"
   ]
  },
  {
   "cell_type": "code",
   "execution_count": 3,
   "id": "41c6db5d",
   "metadata": {},
   "outputs": [
    {
     "name": "stdout",
     "output_type": "stream",
     "text": [
      "I forgot the bread\n",
      "I forgot the milk\n",
      "I forgot the grapes\n",
      "I forgot the apples\n",
      "I forgot the kale\n",
      "nobody likes kale, anyway\n"
     ]
    }
   ],
   "source": [
    "groceries = ['bread', 'milk','grapes','apples','kale']\n",
    "for x in groceries:\n",
    "    print (\"I forgot the\", x)  \n",
    "    if x == 'kale':\n",
    "        print(\"nobody likes kale, anyway\")"
   ]
  },
  {
   "cell_type": "code",
   "execution_count": null,
   "id": "a8f3661c",
   "metadata": {},
   "outputs": [],
   "source": []
  }
 ],
 "metadata": {
  "kernelspec": {
   "display_name": "Python 3 (ipykernel)",
   "language": "python",
   "name": "python3"
  },
  "language_info": {
   "codemirror_mode": {
    "name": "ipython",
    "version": 3
   },
   "file_extension": ".py",
   "mimetype": "text/x-python",
   "name": "python",
   "nbconvert_exporter": "python",
   "pygments_lexer": "ipython3",
   "version": "3.11.5"
  }
 },
 "nbformat": 4,
 "nbformat_minor": 5
}
