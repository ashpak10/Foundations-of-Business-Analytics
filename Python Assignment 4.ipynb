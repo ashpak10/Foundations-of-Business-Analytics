{
 "cells": [
  {
   "cell_type": "code",
   "execution_count": 1,
   "id": "33992661",
   "metadata": {},
   "outputs": [
    {
     "name": "stdout",
     "output_type": "stream",
     "text": [
      "The third value in the tuple is: swimsuit\n"
     ]
    }
   ],
   "source": [
    "my_tuple = (\"towel\", \"sunscreen\", \"swimsuit\", \"sunglasses\", \"umbrella\", \"flip flops\", \"cooler\")\n",
    "print(\"The third value in the tuple is:\", my_tuple[2])"
   ]
  },
  {
   "cell_type": "code",
   "execution_count": 8,
   "id": "6671466a",
   "metadata": {},
   "outputs": [
    {
     "name": "stdout",
     "output_type": "stream",
     "text": [
      "Weekdays: ['Monday', 'Tuesday', 'Wednesday', 'Thursday', 'Friday']\n"
     ]
    }
   ],
   "source": [
    "days_of_week = [\"Monday\", \"Tuesday\", \"Wednesday\", \"Thursday\", \"Friday\", \"Saturday\", \"Sunday\"]\n",
    "print(\"Weekdays:\", days_of_week[:5])"
   ]
  },
  {
   "cell_type": "code",
   "execution_count": 7,
   "id": "600a3b11",
   "metadata": {},
   "outputs": [
    {
     "name": "stdout",
     "output_type": "stream",
     "text": [
      "Sorted Days of the Week: ['Friday', 'Monday', 'Saturday', 'Sunday', 'Thursday', 'Tuesday', 'Wednesday']\n"
     ]
    }
   ],
   "source": [
    "days_of_week = [\"Monday\", \"Tuesday\", \"Wednesday\", \"Thursday\", \"Friday\", \"Saturday\", \"Sunday\"]\n",
    "days_of_week.sort()\n",
    "print(\"Sorted Days of the Week:\", days_of_week)"
   ]
  },
  {
   "cell_type": "code",
   "execution_count": 12,
   "id": "b5134dd0",
   "metadata": {},
   "outputs": [
    {
     "name": "stdout",
     "output_type": "stream",
     "text": [
      "Python Terms Dictionary: {'List': 'A built-in data type in Python used to store and organize a collection of elements.', 'Tuple': 'A collection data type in Python, similar to a list, but immutable.', 'Dictionary': 'A data structure in Python that stores key-value pairs.', 'Function': 'A block of organized, reusable code that performs a specific task.', 'Module': 'A file containing Python code, often including variables, functions, and classes, that can be imported and used in other Python scripts.'}\n"
     ]
    }
   ],
   "source": [
    "python_terms_dict = {\n",
    "    \"List\": \"A built-in data type in Python used to store and organize a collection of elements.\",\n",
    "    \"Tuple\": \"A collection data type in Python, similar to a list, but immutable.\",\n",
    "    \"Dictionary\": \"A data structure in Python that stores key-value pairs.\",\n",
    "    \"Function\": \"A block of organized, reusable code that performs a specific task.\",\n",
    "    \"Module\": \"A file containing Python code, often including variables, functions, and classes, that can be imported and used in other Python scripts.\",\n",
    "}\n",
    "print(\"Python Terms Dictionary:\", python_terms_dict)"
   ]
  },
  {
   "cell_type": "code",
   "execution_count": 22,
   "id": "112e3d44",
   "metadata": {},
   "outputs": [
    {
     "name": "stdout",
     "output_type": "stream",
     "text": [
      "My name is A\n"
     ]
    }
   ],
   "source": [
    "bio_text = \"My name is Anabella Shpak and my majors are Business Analytics and Sport Managemnt. I love to watch sports, go to the beach,and hangout with my friends. I'm involved in a sorority on campus, Delta Delta Delta, and a business fraternity, Alpha Kappa Psi. I wish to work for the National Hockey League as a player analytic.\"\n",
    "with open('my_bio.txt', 'w') as file:\n",
    "    file.write(bio_text)\n",
    "with open('my_bio.txt', 'r') as file:\n",
    "    first_12_characters = file.read(12)\n",
    "    print(first_12_characters)"
   ]
  },
  {
   "cell_type": "code",
   "execution_count": null,
   "id": "37399121",
   "metadata": {},
   "outputs": [],
   "source": []
  }
 ],
 "metadata": {
  "kernelspec": {
   "display_name": "Python 3 (ipykernel)",
   "language": "python",
   "name": "python3"
  },
  "language_info": {
   "codemirror_mode": {
    "name": "ipython",
    "version": 3
   },
   "file_extension": ".py",
   "mimetype": "text/x-python",
   "name": "python",
   "nbconvert_exporter": "python",
   "pygments_lexer": "ipython3",
   "version": "3.11.5"
  }
 },
 "nbformat": 4,
 "nbformat_minor": 5
}
