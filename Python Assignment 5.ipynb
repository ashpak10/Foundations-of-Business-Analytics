{
 "cells": [
  {
   "cell_type": "code",
   "execution_count": 7,
   "id": "b805efc9",
   "metadata": {},
   "outputs": [
    {
     "name": "stdout",
     "output_type": "stream",
     "text": [
      "The area of my square is 16\n",
      "The area of my rectangle is 40\n",
      "The area of my triangle is 30.0\n",
      "The area of my ellipse is 47.12\n",
      "The area of my trapezoid is 49.5\n"
     ]
    }
   ],
   "source": [
    "import math\n",
    "def calculate_square_area(side_length):\n",
    "    return side_length ** 2\n",
    "def calculate_rectangle_area(length, width):\n",
    "    return length * width\n",
    "def calculate_triangle_area(base, height):\n",
    "    return 0.5 * base * height\n",
    "def calculate_ellipse_area(major_axis, minor_axis):\n",
    "    return math.pi * major_axis * minor_axis\n",
    "def calculate_trapezoid_area(base1, base2, height):\n",
    "    return 0.5 * (base1 + base2) * height\n",
    "square_area = calculate_square_area(4)\n",
    "print(f\"The area of my square is {square_area}\")\n",
    "rectangle_area = calculate_rectangle_area(5, 8)\n",
    "print(f\"The area of my rectangle is {rectangle_area}\")\n",
    "triangle_area = calculate_triangle_area(6, 10)\n",
    "print(f\"The area of my triangle is {triangle_area}\")\n",
    "ellipse_area = calculate_ellipse_area(3, 5)\n",
    "print(f\"The area of my ellipse is {ellipse_area:.2f}\")\n",
    "trapezoid_area = calculate_trapezoid_area(4, 7, 9)\n",
    "print(f\"The area of my trapezoid is {trapezoid_area}\")"
   ]
  },
  {
   "cell_type": "code",
   "execution_count": 20,
   "id": "9a686346",
   "metadata": {},
   "outputs": [
    {
     "name": "stdout",
     "output_type": "stream",
     "text": [
      "98.6 degrees Fahrenheit is equal to 37.00 degrees Celsius\n"
     ]
    }
   ],
   "source": [
    "def fahrenheit_to_celsius(fahrenheit_temperature):\n",
    "    celsius_temperature = (fahrenheit_temperature - 32) * 5/9\n",
    "    print(f\"{fahrenheit_temperature} degrees Fahrenheit is equal to {celsius_temperature:.2f} degrees Celsius\")\n",
    "fahrenheit_temperature = 98.6\n",
    "fahrenheit_to_celsius(fahrenheit_temperature)"
   ]
  },
  {
   "cell_type": "code",
   "execution_count": 21,
   "id": "d90d7809",
   "metadata": {},
   "outputs": [
    {
     "name": "stdout",
     "output_type": "stream",
     "text": [
      "(13, 7, 30, 3.3333333333333335)\n"
     ]
    }
   ],
   "source": [
    "def perform_operations(num1, num2):\n",
    "    addition_result = num1 + num2\n",
    "    subtraction_result = num1 - num2\n",
    "    multiplication_result = num1 * num2\n",
    "    if num2 != 0:\n",
    "        division_result = num1 / num2\n",
    "    else:\n",
    "        division_result = \"Undefined (division by zero)\"\n",
    "    return addition_result, subtraction_result, multiplication_result, division_result\n",
    "num1 = 10\n",
    "num2 = 3\n",
    "results = perform_operations(num1, num2)\n",
    "print(results)"
   ]
  },
  {
   "cell_type": "code",
   "execution_count": 22,
   "id": "68334197",
   "metadata": {},
   "outputs": [
    {
     "name": "stdout",
     "output_type": "stream",
     "text": [
      "Original First Name: Anabella\n",
      "Reversed First Name: allebanA\n",
      "\n",
      "Original Last Name: Shpak\n",
      "Reversed Last Name: kaphS\n"
     ]
    }
   ],
   "source": [
    "def reverse_string(input_string):\n",
    "    reversed_string = input_string[::-1]\n",
    "    return reversed_string\n",
    "first_name = \"Anabella\"\n",
    "reversed_first_name = reverse_string(first_name)\n",
    "print(f\"Original First Name: {first_name}\")\n",
    "print(f\"Reversed First Name: {reversed_first_name}\")\n",
    "last_name = \"Shpak\"\n",
    "reversed_last_name = reverse_string(last_name)\n",
    "print(f\"\\nOriginal Last Name: {last_name}\")\n",
    "print(f\"Reversed Last Name: {reversed_last_name}\")"
   ]
  },
  {
   "cell_type": "code",
   "execution_count": null,
   "id": "8f0a21db",
   "metadata": {},
   "outputs": [],
   "source": []
  }
 ],
 "metadata": {
  "kernelspec": {
   "display_name": "Python 3 (ipykernel)",
   "language": "python",
   "name": "python3"
  },
  "language_info": {
   "codemirror_mode": {
    "name": "ipython",
    "version": 3
   },
   "file_extension": ".py",
   "mimetype": "text/x-python",
   "name": "python",
   "nbconvert_exporter": "python",
   "pygments_lexer": "ipython3",
   "version": "3.11.5"
  }
 },
 "nbformat": 4,
 "nbformat_minor": 5
}
