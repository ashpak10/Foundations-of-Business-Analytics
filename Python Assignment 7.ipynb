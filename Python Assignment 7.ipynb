{
 "cells": [
  {
   "cell_type": "code",
   "execution_count": 1,
   "id": "fe5b5f49",
   "metadata": {},
   "outputs": [],
   "source": [
    "import pandas as pd"
   ]
  },
  {
   "cell_type": "code",
   "execution_count": 11,
   "id": "74bd2ca9",
   "metadata": {},
   "outputs": [
    {
     "name": "stdout",
     "output_type": "stream",
     "text": [
      "Average Employee Age: 24.5\n"
     ]
    }
   ],
   "source": [
    "employee_firstname = ['Olivia', 'Ethan', 'Ava', 'Liam','Sophia']\n",
    "employee_lastname = ['Smith', 'Johnson','Davis','Patel','Rodriguez']\n",
    "employee_age = [22, 24, 23, 25, 26, 27]\n",
    "\n",
    "data = {\n",
    "    'first name' : employee_firstname,\n",
    "    'last name' : employee_lastname,\n",
    "    'age' : employee_age\n",
    "}\n",
    "\n",
    "age_series = pd.Series(employee_age, name='Age')\n",
    "average_age = age_series.mean()\n",
    "\n",
    "print(\"Average Employee Age:\", average_age)\n",
    "\n",
    "age_series.to_csv(\"employee_age.csv\")"
   ]
  },
  {
   "cell_type": "code",
   "execution_count": 16,
   "id": "b1bd78b0",
   "metadata": {},
   "outputs": [
    {
     "name": "stdout",
     "output_type": "stream",
     "text": [
      "first five items in the data frame:\n",
      "    playerID  yearID  stint teamID lgID    G   AB    R    H  2B  3B  HR  RBI  \\\n",
      "0  abbotje01    2000      1    CHA   AL   80  215   31   59  15   1   3   29   \n",
      "1  abbotku01    2000      1    NYN   NL   79  157   22   34   7   1   6   12   \n",
      "2  abbotpa01    2000      1    SEA   AL   35    5    1    2   1   0   0    0   \n",
      "3  abreubo01    2000      1    PHI   NL  154  576  103  182  42  10  25   79   \n",
      "4  aceveju01    2000      1    MIL   NL   62    1    1    0   0   0   0    0   \n",
      "\n",
      "   SB  CS   BB   SO  \n",
      "0   2   1   21   38  \n",
      "1   1   1   14   51  \n",
      "2   0   0    0    1  \n",
      "3  28   8  100  116  \n",
      "4   0   0    1    1  \n",
      "Last six items in the data frame:\n",
      "        playerID  yearID  stint teamID lgID   G   AB   R   H  2B  3B  HR  RBI  \\\n",
      "28157  zimmebr01    2019      1    CLE   AL   9   13   1   0   0   0   0    0   \n",
      "28158  zimmejo02    2019      1    DET   AL  23    2   0   0   0   0   0    0   \n",
      "28159  zimmeky01    2019      1    KCA   AL  15    0   0   0   0   0   0    0   \n",
      "28160  zimmery01    2019      1    WAS   NL  52  171  20  44   9   0   6   27   \n",
      "28161  zobribe01    2019      1    CHN   NL  47  150  24  39   5   0   1   17   \n",
      "28162  zuninmi01    2019      1    TBA   AL  90  266  30  44  10   1   9   32   \n",
      "\n",
      "       SB  CS  BB  SO  \n",
      "28157   0   0   1   7  \n",
      "28158   0   0   0   2  \n",
      "28159   0   0   0   0  \n",
      "28160   0   0  17  39  \n",
      "28161   0   0  23  24  \n",
      "28162   0   0  20  98  \n",
      "Average of the HR column: 3.695593509214217\n",
      "Max of the SO column: 223\n"
     ]
    }
   ],
   "source": [
    "file = \"21st Century MLB Batting.csv\"\n",
    "df = pd.read_csv(file)\n",
    "\n",
    "print(\"first five items in the data frame:\")\n",
    "print(df.head(5))\n",
    "\n",
    "print(\"Last six items in the data frame:\")\n",
    "print(df.tail(6))\n",
    "\n",
    "average_hr = df['HR'].mean()\n",
    "print(\"Average of the HR column:\", average_hr)\n",
    "\n",
    "max_so = df['SO'].max()\n",
    "print(\"Max of the SO column:\", max_so)\n",
    "\n",
    "excel_file = \"mlb_batting_data.xlsx\"\n",
    "df.to_excel(excel_file)\n",
    "\n",
    "hr_subset = df[df['HR'] > 40]\n",
    "\n",
    "json_file = \"hr_subset.json\"\n",
    "hr_subset.to_json(json_file)"
   ]
  },
  {
   "cell_type": "code",
   "execution_count": null,
   "id": "48c6b900",
   "metadata": {},
   "outputs": [],
   "source": []
  }
 ],
 "metadata": {
  "kernelspec": {
   "display_name": "Python 3 (ipykernel)",
   "language": "python",
   "name": "python3"
  },
  "language_info": {
   "codemirror_mode": {
    "name": "ipython",
    "version": 3
   },
   "file_extension": ".py",
   "mimetype": "text/x-python",
   "name": "python",
   "nbconvert_exporter": "python",
   "pygments_lexer": "ipython3",
   "version": "3.11.5"
  }
 },
 "nbformat": 4,
 "nbformat_minor": 5
}
