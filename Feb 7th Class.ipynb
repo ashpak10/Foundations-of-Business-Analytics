{
 "cells": [
  {
   "cell_type": "code",
   "execution_count": 1,
   "id": "4bad630d",
   "metadata": {},
   "outputs": [
    {
     "name": "stdout",
     "output_type": "stream",
     "text": [
      "['Tame Impala', 'SZA', 'John Summit', 'Tyler, The Creator', 'Brent Faiyaz']\n"
     ]
    }
   ],
   "source": [
    "artists = [\"Tame Impala\",\"SZA\",\"John Summit\",\"Tyler, The Creator\",\"Brent Faiyaz\"]\n",
    "print(artists)"
   ]
  },
  {
   "cell_type": "code",
   "execution_count": 6,
   "id": "dc798220",
   "metadata": {},
   "outputs": [
    {
     "name": "stdout",
     "output_type": "stream",
     "text": [
      "b is less than a\n"
     ]
    }
   ],
   "source": [
    "a = 33\n",
    "b = 30\n",
    "if b > a:\n",
    "    print(\"b is greater than a\")\n",
    "elif b == a:\n",
    "    print(\"a is equal to b\")\n",
    "else:\n",
    "    print(\"b is less than a\")"
   ]
  },
  {
   "cell_type": "code",
   "execution_count": 8,
   "id": "6aef08cb",
   "metadata": {},
   "outputs": [
    {
     "name": "stdout",
     "output_type": "stream",
     "text": [
      "10\n",
      "9\n",
      "8\n",
      "7\n"
     ]
    }
   ],
   "source": [
    "i = 10\n",
    "while i > 6:\n",
    "    print(i)\n",
    "    i -= 1"
   ]
  },
  {
   "cell_type": "code",
   "execution_count": 10,
   "id": "2e42a7eb",
   "metadata": {},
   "outputs": [
    {
     "name": "stdout",
     "output_type": "stream",
     "text": [
      "Tame Impala\n",
      "SZA\n",
      "John Summit\n",
      "Tyler, The Creator\n",
      "Brent Faiyaz\n",
      "Kanye\n"
     ]
    }
   ],
   "source": [
    "singers = [\"Tame Impala\",\"SZA\",\"John Summit\",\"Tyler, The Creator\",\"Brent Faiyaz\",\"Kanye\"]\n",
    "for s in singers:\n",
    "    print(s)"
   ]
  },
  {
   "cell_type": "code",
   "execution_count": 11,
   "id": "51ca6cc9",
   "metadata": {},
   "outputs": [],
   "source": [
    "def myfunction():\n",
    "    print(\"Hello from a function!\")"
   ]
  },
  {
   "cell_type": "code",
   "execution_count": 12,
   "id": "1ba5e56c",
   "metadata": {},
   "outputs": [
    {
     "name": "stdout",
     "output_type": "stream",
     "text": [
      "Hello from a function!\n"
     ]
    }
   ],
   "source": [
    "myfunction()"
   ]
  },
  {
   "cell_type": "code",
   "execution_count": 14,
   "id": "8d0adfaa",
   "metadata": {},
   "outputs": [
    {
     "name": "stdout",
     "output_type": "stream",
     "text": [
      "Anabella Shpak\n"
     ]
    }
   ],
   "source": [
    "def nameFunction(fname):\n",
    "    print(fname + \" Shpak\")\n",
    "nameFunction(\"Anabella\")"
   ]
  },
  {
   "cell_type": "code",
   "execution_count": 20,
   "id": "a9468767",
   "metadata": {},
   "outputs": [
    {
     "name": "stdout",
     "output_type": "stream",
     "text": [
      "Invalid value\n"
     ]
    }
   ],
   "source": [
    "def multiplyNums(num):\n",
    "    if type(num) == 'int':\n",
    "        return num * 3\n",
    "    else:\n",
    "        return \"Invalid value\"\n",
    "print(multiplyNums(7))"
   ]
  },
  {
   "cell_type": "code",
   "execution_count": null,
   "id": "1721df51",
   "metadata": {},
   "outputs": [],
   "source": []
  }
 ],
 "metadata": {
  "kernelspec": {
   "display_name": "Python 3 (ipykernel)",
   "language": "python",
   "name": "python3"
  },
  "language_info": {
   "codemirror_mode": {
    "name": "ipython",
    "version": 3
   },
   "file_extension": ".py",
   "mimetype": "text/x-python",
   "name": "python",
   "nbconvert_exporter": "python",
   "pygments_lexer": "ipython3",
   "version": "3.11.5"
  }
 },
 "nbformat": 4,
 "nbformat_minor": 5
}
