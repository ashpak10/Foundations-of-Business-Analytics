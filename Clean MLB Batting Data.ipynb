{
 "cells": [
  {
   "cell_type": "code",
   "execution_count": 1,
   "id": "f978f3d7",
   "metadata": {},
   "outputs": [],
   "source": [
    "import pandas as pd"
   ]
  },
  {
   "cell_type": "code",
   "execution_count": 23,
   "id": "f6eaac49",
   "metadata": {},
   "outputs": [],
   "source": [
    "df = pd.read_csv('MLB Batting.csv')"
   ]
  },
  {
   "cell_type": "code",
   "execution_count": 22,
   "id": "7887ddbc",
   "metadata": {},
   "outputs": [
    {
     "name": "stdout",
     "output_type": "stream",
     "text": [
      "<class 'pandas.core.frame.DataFrame'>\n",
      "Index: 28129 entries, 0 to 28164\n",
      "Data columns (total 17 columns):\n",
      " #   Column    Non-Null Count  Dtype  \n",
      "---  ------    --------------  -----  \n",
      " 0   playerID  28129 non-null  object \n",
      " 1   yearID    28129 non-null  int64  \n",
      " 2   stint     28129 non-null  int64  \n",
      " 3   teamID    28129 non-null  object \n",
      " 4   lgID      28129 non-null  object \n",
      " 5   G         28129 non-null  int64  \n",
      " 6   AB        28129 non-null  float64\n",
      " 7   R         28129 non-null  float64\n",
      " 8   H         28129 non-null  float64\n",
      " 9   2B        28129 non-null  float64\n",
      " 10  3B        28129 non-null  float64\n",
      " 11  HR        28129 non-null  float64\n",
      " 12  RBI       28129 non-null  float64\n",
      " 13  SB        28129 non-null  float64\n",
      " 14  CS        28129 non-null  float64\n",
      " 15  BB        28129 non-null  float64\n",
      " 16  SO        28129 non-null  float64\n",
      "dtypes: float64(11), int64(3), object(3)\n",
      "memory usage: 3.9+ MB\n"
     ]
    }
   ],
   "source": [
    "description = df.info()"
   ]
  },
  {
   "cell_type": "code",
   "execution_count": 4,
   "id": "4b785fc8",
   "metadata": {},
   "outputs": [],
   "source": [
    "duplicates = df[df.duplicated()]"
   ]
  },
  {
   "cell_type": "code",
   "execution_count": 5,
   "id": "fe8f652c",
   "metadata": {},
   "outputs": [],
   "source": [
    "df_no_duplicates = df.drop_duplicates()"
   ]
  },
  {
   "cell_type": "code",
   "execution_count": 6,
   "id": "bb01b3ca",
   "metadata": {},
   "outputs": [],
   "source": [
    "non_null_records = df.dropna()"
   ]
  },
  {
   "cell_type": "code",
   "execution_count": 7,
   "id": "121e32ed",
   "metadata": {},
   "outputs": [],
   "source": [
    "df_duplicate = df.copy()"
   ]
  },
  {
   "cell_type": "code",
   "execution_count": 9,
   "id": "f6d70213",
   "metadata": {},
   "outputs": [],
   "source": [
    "df_duplicate.fillna(0,inplace=True)"
   ]
  },
  {
   "cell_type": "code",
   "execution_count": 10,
   "id": "9aee75c1",
   "metadata": {},
   "outputs": [],
   "source": [
    "df.dropna(inplace=True)"
   ]
  },
  {
   "cell_type": "code",
   "execution_count": 11,
   "id": "b3aa11c6",
   "metadata": {},
   "outputs": [],
   "source": [
    "stats_original = df.describe()\n",
    "stats_no_duplicates = df_no_duplicates.describe()\n",
    "stats_duplicate = df_duplicate.describe()"
   ]
  },
  {
   "cell_type": "code",
   "execution_count": 12,
   "id": "28c631c7",
   "metadata": {},
   "outputs": [
    {
     "name": "stdout",
     "output_type": "stream",
     "text": [
      "Description of the DataFrame:\n",
      "None\n"
     ]
    }
   ],
   "source": [
    "print(\"Description of the DataFrame:\")\n",
    "print(description)"
   ]
  },
  {
   "cell_type": "code",
   "execution_count": 14,
   "id": "4ca0768e",
   "metadata": {},
   "outputs": [
    {
     "name": "stdout",
     "output_type": "stream",
     "text": [
      "\n",
      "Duplicate Records:\n",
      "     playerID  yearID  stint teamID lgID   G    AB    R     H   2B   3B   HR  \\\n",
      "16  allendu01    2000      1    SDN   NL   9  12.0  0.0   0.0  0.0  0.0  0.0   \n",
      "37  ankieri01    2000      1    SLN   NL  35  68.0  8.0  17.0  1.0  1.0  2.0   \n",
      "\n",
      "    RBI   SB   CS   BB    SO  \n",
      "16  0.0  0.0  0.0  2.0   5.0  \n",
      "37  9.0  0.0  NaN  4.0  20.0  \n"
     ]
    }
   ],
   "source": [
    "print(\"\\nDuplicate Records:\")\n",
    "print(duplicates)"
   ]
  },
  {
   "cell_type": "code",
   "execution_count": 13,
   "id": "599253e5",
   "metadata": {},
   "outputs": [
    {
     "name": "stdout",
     "output_type": "stream",
     "text": [
      "\n",
      "DataFrame without Duplicates:\n",
      "        playerID  yearID  stint teamID lgID    G     AB      R      H    2B  \\\n",
      "0      abbotje01    2000      1    CHA   AL   80  215.0   31.0   59.0  15.0   \n",
      "1      abbotku01    2000      1    NYN   NL   79  157.0   22.0   34.0   7.0   \n",
      "2      abbotpa01    2000      1    SEA   AL   35    5.0    1.0    2.0   1.0   \n",
      "3      abreubo01    2000      1    PHI   NL  154  576.0  103.0  182.0  42.0   \n",
      "4      aceveju01    2000      1    MIL   NL   62    1.0    1.0    0.0   0.0   \n",
      "...          ...     ...    ...    ...  ...  ...    ...    ...    ...   ...   \n",
      "28160  zimmejo02    2019      1    DET   AL   23    2.0    0.0    0.0   0.0   \n",
      "28161  zimmeky01    2019      1    KCA   AL   15    0.0    0.0    0.0   0.0   \n",
      "28162  zimmery01    2019      1    WAS   NL   52  171.0   20.0   44.0   9.0   \n",
      "28163  zobribe01    2019      1    CHN   NL   47  150.0   24.0   39.0   5.0   \n",
      "28164  zuninmi01    2019      1    TBA   AL   90  266.0   30.0   44.0  10.0   \n",
      "\n",
      "         3B    HR   RBI    SB   CS     BB     SO  \n",
      "0       1.0   3.0  29.0   2.0  1.0   21.0   38.0  \n",
      "1       1.0   6.0  12.0   1.0  1.0   14.0   51.0  \n",
      "2       0.0   0.0   0.0   0.0  0.0    0.0    1.0  \n",
      "3      10.0  25.0  79.0  28.0  8.0  100.0  116.0  \n",
      "4       0.0   0.0   0.0   0.0  0.0    1.0    1.0  \n",
      "...     ...   ...   ...   ...  ...    ...    ...  \n",
      "28160   0.0   0.0   0.0   0.0  0.0    0.0    2.0  \n",
      "28161   0.0   0.0   0.0   0.0  0.0    0.0    0.0  \n",
      "28162   0.0   6.0  27.0   0.0  0.0   17.0   39.0  \n",
      "28163   0.0   1.0  17.0   0.0  0.0   23.0   24.0  \n",
      "28164   1.0   9.0  32.0   0.0  0.0   20.0   98.0  \n",
      "\n",
      "[28163 rows x 17 columns]\n"
     ]
    }
   ],
   "source": [
    "print(\"\\nDataFrame without Duplicates:\")\n",
    "print(df_no_duplicates)"
   ]
  },
  {
   "cell_type": "code",
   "execution_count": 15,
   "id": "798597d1",
   "metadata": {},
   "outputs": [
    {
     "name": "stdout",
     "output_type": "stream",
     "text": [
      "\n",
      "Non-null Records:\n",
      "        playerID  yearID  stint teamID lgID    G     AB      R      H    2B  \\\n",
      "0      abbotje01    2000      1    CHA   AL   80  215.0   31.0   59.0  15.0   \n",
      "1      abbotku01    2000      1    NYN   NL   79  157.0   22.0   34.0   7.0   \n",
      "2      abbotpa01    2000      1    SEA   AL   35    5.0    1.0    2.0   1.0   \n",
      "3      abreubo01    2000      1    PHI   NL  154  576.0  103.0  182.0  42.0   \n",
      "4      aceveju01    2000      1    MIL   NL   62    1.0    1.0    0.0   0.0   \n",
      "...          ...     ...    ...    ...  ...  ...    ...    ...    ...   ...   \n",
      "28160  zimmejo02    2019      1    DET   AL   23    2.0    0.0    0.0   0.0   \n",
      "28161  zimmeky01    2019      1    KCA   AL   15    0.0    0.0    0.0   0.0   \n",
      "28162  zimmery01    2019      1    WAS   NL   52  171.0   20.0   44.0   9.0   \n",
      "28163  zobribe01    2019      1    CHN   NL   47  150.0   24.0   39.0   5.0   \n",
      "28164  zuninmi01    2019      1    TBA   AL   90  266.0   30.0   44.0  10.0   \n",
      "\n",
      "         3B    HR   RBI    SB   CS     BB     SO  \n",
      "0       1.0   3.0  29.0   2.0  1.0   21.0   38.0  \n",
      "1       1.0   6.0  12.0   1.0  1.0   14.0   51.0  \n",
      "2       0.0   0.0   0.0   0.0  0.0    0.0    1.0  \n",
      "3      10.0  25.0  79.0  28.0  8.0  100.0  116.0  \n",
      "4       0.0   0.0   0.0   0.0  0.0    1.0    1.0  \n",
      "...     ...   ...   ...   ...  ...    ...    ...  \n",
      "28160   0.0   0.0   0.0   0.0  0.0    0.0    2.0  \n",
      "28161   0.0   0.0   0.0   0.0  0.0    0.0    0.0  \n",
      "28162   0.0   6.0  27.0   0.0  0.0   17.0   39.0  \n",
      "28163   0.0   1.0  17.0   0.0  0.0   23.0   24.0  \n",
      "28164   1.0   9.0  32.0   0.0  0.0   20.0   98.0  \n",
      "\n",
      "[28129 rows x 17 columns]\n"
     ]
    }
   ],
   "source": [
    "print(\"\\nNon-null Records:\")\n",
    "print(non_null_records)"
   ]
  },
  {
   "cell_type": "code",
   "execution_count": 16,
   "id": "4528d35e",
   "metadata": {},
   "outputs": [
    {
     "name": "stdout",
     "output_type": "stream",
     "text": [
      "\n",
      "Duplicate DataFrame with Null Values Replace by Zero:\n",
      "        playerID  yearID  stint teamID lgID    G     AB      R      H    2B  \\\n",
      "0      abbotje01    2000      1    CHA   AL   80  215.0   31.0   59.0  15.0   \n",
      "1      abbotku01    2000      1    NYN   NL   79  157.0   22.0   34.0   7.0   \n",
      "2      abbotpa01    2000      1    SEA   AL   35    5.0    1.0    2.0   1.0   \n",
      "3      abreubo01    2000      1    PHI   NL  154  576.0  103.0  182.0  42.0   \n",
      "4      aceveju01    2000      1    MIL   NL   62    1.0    1.0    0.0   0.0   \n",
      "...          ...     ...    ...    ...  ...  ...    ...    ...    ...   ...   \n",
      "28160  zimmejo02    2019      1    DET   AL   23    2.0    0.0    0.0   0.0   \n",
      "28161  zimmeky01    2019      1    KCA   AL   15    0.0    0.0    0.0   0.0   \n",
      "28162  zimmery01    2019      1    WAS   NL   52  171.0   20.0   44.0   9.0   \n",
      "28163  zobribe01    2019      1    CHN   NL   47  150.0   24.0   39.0   5.0   \n",
      "28164  zuninmi01    2019      1    TBA   AL   90  266.0   30.0   44.0  10.0   \n",
      "\n",
      "         3B    HR   RBI    SB   CS     BB     SO  \n",
      "0       1.0   3.0  29.0   2.0  1.0   21.0   38.0  \n",
      "1       1.0   6.0  12.0   1.0  1.0   14.0   51.0  \n",
      "2       0.0   0.0   0.0   0.0  0.0    0.0    1.0  \n",
      "3      10.0  25.0  79.0  28.0  8.0  100.0  116.0  \n",
      "4       0.0   0.0   0.0   0.0  0.0    1.0    1.0  \n",
      "...     ...   ...   ...   ...  ...    ...    ...  \n",
      "28160   0.0   0.0   0.0   0.0  0.0    0.0    2.0  \n",
      "28161   0.0   0.0   0.0   0.0  0.0    0.0    0.0  \n",
      "28162   0.0   6.0  27.0   0.0  0.0   17.0   39.0  \n",
      "28163   0.0   1.0  17.0   0.0  0.0   23.0   24.0  \n",
      "28164   1.0   9.0  32.0   0.0  0.0   20.0   98.0  \n",
      "\n",
      "[28165 rows x 17 columns]\n"
     ]
    }
   ],
   "source": [
    "print(\"\\nDuplicate DataFrame with Null Values Replace by Zero:\")\n",
    "print(df_duplicate)"
   ]
  },
  {
   "cell_type": "code",
   "execution_count": 17,
   "id": "46a1b1d0",
   "metadata": {},
   "outputs": [
    {
     "name": "stdout",
     "output_type": "stream",
     "text": [
      "\n",
      "Original DataFrame after dropping Null Records:\n",
      "        playerID  yearID  stint teamID lgID    G     AB      R      H    2B  \\\n",
      "0      abbotje01    2000      1    CHA   AL   80  215.0   31.0   59.0  15.0   \n",
      "1      abbotku01    2000      1    NYN   NL   79  157.0   22.0   34.0   7.0   \n",
      "2      abbotpa01    2000      1    SEA   AL   35    5.0    1.0    2.0   1.0   \n",
      "3      abreubo01    2000      1    PHI   NL  154  576.0  103.0  182.0  42.0   \n",
      "4      aceveju01    2000      1    MIL   NL   62    1.0    1.0    0.0   0.0   \n",
      "...          ...     ...    ...    ...  ...  ...    ...    ...    ...   ...   \n",
      "28160  zimmejo02    2019      1    DET   AL   23    2.0    0.0    0.0   0.0   \n",
      "28161  zimmeky01    2019      1    KCA   AL   15    0.0    0.0    0.0   0.0   \n",
      "28162  zimmery01    2019      1    WAS   NL   52  171.0   20.0   44.0   9.0   \n",
      "28163  zobribe01    2019      1    CHN   NL   47  150.0   24.0   39.0   5.0   \n",
      "28164  zuninmi01    2019      1    TBA   AL   90  266.0   30.0   44.0  10.0   \n",
      "\n",
      "         3B    HR   RBI    SB   CS     BB     SO  \n",
      "0       1.0   3.0  29.0   2.0  1.0   21.0   38.0  \n",
      "1       1.0   6.0  12.0   1.0  1.0   14.0   51.0  \n",
      "2       0.0   0.0   0.0   0.0  0.0    0.0    1.0  \n",
      "3      10.0  25.0  79.0  28.0  8.0  100.0  116.0  \n",
      "4       0.0   0.0   0.0   0.0  0.0    1.0    1.0  \n",
      "...     ...   ...   ...   ...  ...    ...    ...  \n",
      "28160   0.0   0.0   0.0   0.0  0.0    0.0    2.0  \n",
      "28161   0.0   0.0   0.0   0.0  0.0    0.0    0.0  \n",
      "28162   0.0   6.0  27.0   0.0  0.0   17.0   39.0  \n",
      "28163   0.0   1.0  17.0   0.0  0.0   23.0   24.0  \n",
      "28164   1.0   9.0  32.0   0.0  0.0   20.0   98.0  \n",
      "\n",
      "[28129 rows x 17 columns]\n"
     ]
    }
   ],
   "source": [
    "print(\"\\nOriginal DataFrame after dropping Null Records:\")\n",
    "print(df)"
   ]
  },
  {
   "cell_type": "code",
   "execution_count": 18,
   "id": "8f71973f",
   "metadata": {},
   "outputs": [
    {
     "name": "stdout",
     "output_type": "stream",
     "text": [
      "\n",
      "Decriptive Statistics for Original DataFrame:\n",
      "             yearID         stint             G            AB             R  \\\n",
      "count  28129.000000  28129.000000  28129.000000  28129.000000  28129.000000   \n",
      "mean    2009.760781      1.089836     49.410395    118.130293     15.795620   \n",
      "std        5.802535      0.303327     45.540898    179.404707     26.666586   \n",
      "min     2000.000000      1.000000      1.000000      0.000000      0.000000   \n",
      "25%     2005.000000      1.000000     13.000000      0.000000      0.000000   \n",
      "50%     2010.000000      1.000000     33.000000     16.000000      1.000000   \n",
      "75%     2015.000000      1.000000     72.000000    173.000000     21.000000   \n",
      "max     2019.000000      5.000000    163.000000    716.000000    152.000000   \n",
      "\n",
      "                  H            2B            3B            HR           RBI  \\\n",
      "count  28129.000000  28129.000000  28129.000000  28129.000000  28129.000000   \n",
      "mean      30.663550      6.123929      0.632621      3.699385     15.045647   \n",
      "std       49.840845     10.374792      1.538604      7.587431     26.216107   \n",
      "min        0.000000      0.000000      0.000000      0.000000      0.000000   \n",
      "25%        0.000000      0.000000      0.000000      0.000000      0.000000   \n",
      "50%        2.000000      0.000000      0.000000      0.000000      1.000000   \n",
      "75%       42.000000      8.000000      0.000000      3.000000     19.000000   \n",
      "max      262.000000     59.000000     23.000000     73.000000    160.000000   \n",
      "\n",
      "                 SB            CS            BB            SO  \n",
      "count  28129.000000  28129.000000  28129.000000  28129.000000  \n",
      "mean       1.962530      0.780333     11.131821     24.828860  \n",
      "std        5.575334      1.898480     19.851899     36.993795  \n",
      "min        0.000000      0.000000      0.000000      0.000000  \n",
      "25%        0.000000      0.000000      0.000000      0.000000  \n",
      "50%        0.000000      0.000000      1.000000      5.000000  \n",
      "75%        1.000000      1.000000     14.000000     36.000000  \n",
      "max       78.000000     24.000000    232.000000    223.000000  \n"
     ]
    }
   ],
   "source": [
    "print(\"\\nDecriptive Statistics for Original DataFrame:\")\n",
    "print(stats_original)"
   ]
  },
  {
   "cell_type": "code",
   "execution_count": 19,
   "id": "18926f39",
   "metadata": {},
   "outputs": [
    {
     "name": "stdout",
     "output_type": "stream",
     "text": [
      "\n",
      "Descriptive Statistics for DataFrame without Duplicates:\n",
      "             yearID         stint             G            AB             R  \\\n",
      "count  28163.000000  28163.000000  28163.000000  28161.000000  28159.000000   \n",
      "mean    2009.748997      1.090154     49.376948    118.032385     15.781846   \n",
      "std        5.808928      0.303970     45.527897    179.335166     26.656305   \n",
      "min     2000.000000      1.000000      1.000000      0.000000      0.000000   \n",
      "25%     2005.000000      1.000000     13.000000      0.000000      0.000000   \n",
      "50%     2010.000000      1.000000     33.000000     16.000000      1.000000   \n",
      "75%     2015.000000      1.000000     72.000000    173.000000     21.000000   \n",
      "max     2019.000000      5.000000    163.000000    716.000000    152.000000   \n",
      "\n",
      "                  H            2B            3B            HR           RBI  \\\n",
      "count  28158.000000  28160.000000  28147.000000  28154.000000  28157.000000   \n",
      "mean      30.639214      6.118572      0.632288      3.696775     15.034485   \n",
      "std       49.822771     10.370646      1.538189      7.584802     26.206280   \n",
      "min        0.000000      0.000000      0.000000      0.000000      0.000000   \n",
      "25%        0.000000      0.000000      0.000000      0.000000      0.000000   \n",
      "50%        2.000000      0.000000      0.000000      0.000000      1.000000   \n",
      "75%       42.000000      8.000000      0.000000      3.000000     19.000000   \n",
      "max      262.000000     59.000000     23.000000     73.000000    160.000000   \n",
      "\n",
      "                 SB            CS            BB            SO  \n",
      "count  28154.000000  28141.000000  28157.000000  28156.000000  \n",
      "mean       1.960823      0.780036     11.124268     24.814569  \n",
      "std        5.573155      1.898138     19.844720     36.980901  \n",
      "min        0.000000      0.000000      0.000000      0.000000  \n",
      "25%        0.000000      0.000000      0.000000      0.000000  \n",
      "50%        0.000000      0.000000      1.000000      5.000000  \n",
      "75%        1.000000      1.000000     14.000000     36.000000  \n",
      "max       78.000000     24.000000    232.000000    223.000000  \n"
     ]
    }
   ],
   "source": [
    "print(\"\\nDescriptive Statistics for DataFrame without Duplicates:\")\n",
    "print(stats_no_duplicates)"
   ]
  },
  {
   "cell_type": "code",
   "execution_count": 20,
   "id": "48384e03",
   "metadata": {},
   "outputs": [
    {
     "name": "stdout",
     "output_type": "stream",
     "text": [
      "\n",
      "Descriptive Statistics for Duplicate DataFrame with Null Values Replaced by Zero:\n",
      "             yearID         stint             G            AB             R  \\\n",
      "count  28165.000000  28165.000000  28165.000000  28165.000000  28165.000000   \n",
      "mean    2009.748305      1.090147     49.375004    118.018463     15.778768   \n",
      "std        5.809303      0.303960     45.526996    179.326549     26.654335   \n",
      "min     2000.000000      1.000000      1.000000      0.000000      0.000000   \n",
      "25%     2005.000000      1.000000     13.000000      0.000000      0.000000   \n",
      "50%     2010.000000      1.000000     33.000000     16.000000      1.000000   \n",
      "75%     2015.000000      1.000000     72.000000    173.000000     21.000000   \n",
      "max     2019.000000      5.000000    163.000000    716.000000    152.000000   \n",
      "\n",
      "                  H            2B            3B            HR           RBI  \\\n",
      "count  28165.000000  28165.000000  28165.000000  28165.000000  28165.000000   \n",
      "mean      30.632203      6.117522      0.631919      3.695402     15.030534   \n",
      "std       49.818652     10.370027      1.537778      7.583648     26.203654   \n",
      "min        0.000000      0.000000      0.000000      0.000000      0.000000   \n",
      "25%        0.000000      0.000000      0.000000      0.000000      0.000000   \n",
      "50%        2.000000      0.000000      0.000000      0.000000      1.000000   \n",
      "75%       42.000000      8.000000      0.000000      3.000000     19.000000   \n",
      "max      262.000000     59.000000     23.000000     73.000000    160.000000   \n",
      "\n",
      "                 SB            CS            BB            SO  \n",
      "count  28165.000000  28165.000000  28165.000000  28165.000000  \n",
      "mean       1.960057      0.779372     11.121321     24.807527  \n",
      "std        5.572201      1.897466     19.842685     36.977260  \n",
      "min        0.000000      0.000000      0.000000      0.000000  \n",
      "25%        0.000000      0.000000      0.000000      0.000000  \n",
      "50%        0.000000      0.000000      1.000000      5.000000  \n",
      "75%        1.000000      1.000000     14.000000     36.000000  \n",
      "max       78.000000     24.000000    232.000000    223.000000  \n"
     ]
    }
   ],
   "source": [
    "print(\"\\nDescriptive Statistics for Duplicate DataFrame with Null Values Replaced by Zero:\")\n",
    "print(stats_duplicate)"
   ]
  },
  {
   "cell_type": "code",
   "execution_count": null,
   "id": "2fc35ea7",
   "metadata": {},
   "outputs": [],
   "source": []
  }
 ],
 "metadata": {
  "kernelspec": {
   "display_name": "Python 3 (ipykernel)",
   "language": "python",
   "name": "python3"
  },
  "language_info": {
   "codemirror_mode": {
    "name": "ipython",
    "version": 3
   },
   "file_extension": ".py",
   "mimetype": "text/x-python",
   "name": "python",
   "nbconvert_exporter": "python",
   "pygments_lexer": "ipython3",
   "version": "3.11.5"
  }
 },
 "nbformat": 4,
 "nbformat_minor": 5
}
